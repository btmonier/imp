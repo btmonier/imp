{
 "cells": [
  {
   "cell_type": "code",
   "execution_count": 1,
   "id": "2e1f46f7-27bb-4e79-aedc-9498f084c07b",
   "metadata": {},
   "outputs": [],
   "source": [
    "import numpy as np\n",
    "import pandas as pd"
   ]
  },
  {
   "cell_type": "code",
   "execution_count": 2,
   "id": "b520b020-41a6-4645-be44-66bbe0493a9d",
   "metadata": {},
   "outputs": [],
   "source": [
    "def load_inputs(npz_path, ps4g_path, sep):\n",
    "    data = np.load(npz_path, allow_pickle=True)\n",
    "    final_predictions = data['path']\n",
    "    background = data['background']\n",
    "    model_predictions = data['predictions']\n",
    "\n",
    "    df = pd.read_csv(ps4g_path, sep=sep, header=0)\n",
    "    gamete = df['gamete'].values\n",
    "    index = df['gamete_index'].values\n",
    "    y_labels = list(gamete[index])\n",
    "\n",
    "    return final_predictions, background, model_predictions, y_labels"
   ]
  },
  {
   "cell_type": "code",
   "execution_count": 3,
   "id": "9da37c65-e49d-4924-8416-4b25642d07fa",
   "metadata": {},
   "outputs": [],
   "source": [
    "npz_path  = \"/Users/bm646-admin/Downloads/HMM_CML69_9_100.npz\"\n",
    "npz_path  = \"/Users/bm646-admin/Downloads/HMM_CML69_9_100.npz\"\n",
    "ps4g_path = \"/Users/bm646-admin/Downloads/CML69.csv\""
   ]
  },
  {
   "cell_type": "code",
   "execution_count": 4,
   "id": "6185b6fa-b586-43a3-a4df-880fbadc79fb",
   "metadata": {},
   "outputs": [],
   "source": [
    "fp, bg, mp, ylab = load_inputs(npz_path, ps4g_path, sep = \"\\t\")"
   ]
  },
  {
   "cell_type": "code",
   "execution_count": 5,
   "id": "73b40250-d02d-4d61-bd18-d0782c45bc07",
   "metadata": {},
   "outputs": [
    {
     "data": {
      "text/plain": [
       "array([5, 5, 5, ..., 5, 5, 5], shape=(82944,))"
      ]
     },
     "execution_count": 5,
     "metadata": {},
     "output_type": "execute_result"
    }
   ],
   "source": [
    "fp"
   ]
  },
  {
   "cell_type": "code",
   "execution_count": 6,
   "id": "75ce8d2b-e897-4ef5-928a-83df47a40b62",
   "metadata": {},
   "outputs": [
    {
     "data": {
      "text/plain": [
       "array([[0, 1, 1, ..., 1, 0, 1],\n",
       "       [1, 1, 1, ..., 1, 1, 1],\n",
       "       [1, 1, 1, ..., 1, 1, 1],\n",
       "       ...,\n",
       "       [0, 1, 1, ..., 1, 0, 0],\n",
       "       [1, 1, 1, ..., 1, 1, 1],\n",
       "       [0, 1, 1, ..., 1, 0, 1]], shape=(82944, 29), dtype=int8)"
      ]
     },
     "execution_count": 6,
     "metadata": {},
     "output_type": "execute_result"
    }
   ],
   "source": [
    "bg"
   ]
  },
  {
   "cell_type": "code",
   "execution_count": 7,
   "id": "84c84ff7-83d7-4c52-b46a-9c32993d5b06",
   "metadata": {},
   "outputs": [
    {
     "data": {
      "text/plain": [
       "2"
      ]
     },
     "execution_count": 7,
     "metadata": {},
     "output_type": "execute_result"
    }
   ],
   "source": [
    "bg.ndim"
   ]
  },
  {
   "cell_type": "code",
   "execution_count": 7,
   "id": "84d6ca68-030c-47dc-9e85-4e74eeda59f8",
   "metadata": {},
   "outputs": [
    {
     "data": {
      "text/plain": [
       "array([5, 5, 5, ..., 5, 5, 5], shape=(82944,))"
      ]
     },
     "execution_count": 7,
     "metadata": {},
     "output_type": "execute_result"
    }
   ],
   "source": [
    "mp"
   ]
  },
  {
   "cell_type": "code",
   "execution_count": 8,
   "id": "4357a2f7-152f-44cf-8d0f-a86017d617e1",
   "metadata": {
    "scrolled": true
   },
   "outputs": [
    {
     "data": {
      "text/plain": [
       "['CML103',\n",
       " 'Ia453',\n",
       " 'A188',\n",
       " 'NC350',\n",
       " 'CML277',\n",
       " 'CML69',\n",
       " 'CML52',\n",
       " 'Ki3',\n",
       " 'Ki11',\n",
       " 'CML228',\n",
       " 'Il14H',\n",
       " 'CML322',\n",
       " 'Tzi8',\n",
       " 'Mo18W',\n",
       " 'NC358',\n",
       " 'CML333',\n",
       " 'M162W',\n",
       " 'Tx303',\n",
       " 'HP301',\n",
       " 'M37W',\n",
       " 'Ms71',\n",
       " 'B97',\n",
       " 'Oh43',\n",
       " 'Oh7B',\n",
       " 'K0326Y',\n",
       " 'P39',\n",
       " 'Ky21',\n",
       " 'CML247']"
      ]
     },
     "execution_count": 8,
     "metadata": {},
     "output_type": "execute_result"
    }
   ],
   "source": [
    "ylab"
   ]
  }
 ],
 "metadata": {
  "kernelspec": {
   "display_name": "Python 3 (ipykernel)",
   "language": "python",
   "name": "python3"
  },
  "language_info": {
   "codemirror_mode": {
    "name": "ipython",
    "version": 3
   },
   "file_extension": ".py",
   "mimetype": "text/x-python",
   "name": "python",
   "nbconvert_exporter": "python",
   "pygments_lexer": "ipython3",
   "version": "3.10.18"
  }
 },
 "nbformat": 4,
 "nbformat_minor": 5
}
